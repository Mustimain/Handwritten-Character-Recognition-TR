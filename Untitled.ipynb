{
 "cells": [
  {
   "cell_type": "code",
   "outputs": [
    {
     "name": "stdout",
     "output_type": "stream",
     "text": [
      "363322\n"
     ]
    }
   ],
   "source": [
    "import numpy as np\n",
    "import os\n",
    "import cv2\n",
    "\n",
    "\n",
    "train_dir = \"/Users/musti/Desktop/vizeProje/dataset/Train/\"\n",
    "\n",
    "image_data = []\n",
    "labels = []\n",
    "\n",
    "for folder in os.listdir(train_dir):\n",
    "    folder_path = os.path.join(train_dir, folder)\n",
    "    if os.path.isdir(folder_path):\n",
    "        for file in os.listdir(folder_path):\n",
    "            image_path = os.path.join(folder_path, file)\n",
    "            image = cv2.imread(image_path, cv2.IMREAD_GRAYSCALE)  # Load image in grayscale\n",
    "            image = cv2.resize(image,(32,32)) # Resize image\n",
    "            image_array = image.astype(np.float32) / 255.0       \n",
    "            image_data.append(image_array)\n",
    "            labels.append(folder)\n",
    "np.array(image_data)\n",
    "np.array(labels)           \n",
    "\n",
    "print(len(image_data))\n"
   ],
   "metadata": {
    "collapsed": false,
    "ExecuteTime": {
     "end_time": "2024-03-28T10:49:24.629138Z",
     "start_time": "2024-03-28T10:48:26.297696Z"
    }
   },
   "id": "515d1f849e5c522e",
   "execution_count": 1
  },
  {
   "cell_type": "code",
   "outputs": [
    {
     "name": "stdout",
     "output_type": "stream",
     "text": [
      "16644\n"
     ]
    }
   ],
   "source": [
    "\n",
    "\n",
    "val_dir = \"/Users/musti/Desktop/vizeProje/dataset/Validation/\"\n",
    "\n",
    "val_image_data = []\n",
    "val_labels = []\n",
    "\n",
    "for folder in os.listdir(val_dir):\n",
    "    folder_path = os.path.join(val_dir, folder)\n",
    "    if os.path.isdir(folder_path):\n",
    "        for file in os.listdir(folder_path):\n",
    "            image_path = os.path.join(folder_path, file)\n",
    "            image = cv2.imread(image_path, cv2.IMREAD_GRAYSCALE)\n",
    "            _,image = cv2.threshold(image, 120, 255, cv2.THRESH_BINARY_INV)\n",
    "            image = cv2.resize(image,(32,32)) # Resize image\n",
    "            image_array = image.astype(np.float32) / 255.0       \n",
    "            val_image_data.append(image_array)\n",
    "            val_labels.append(folder)\n",
    "            \n",
    "np.array(val_image_data)\n",
    "np.array(val_labels)           \n",
    "\n",
    "print(len(val_image_data))\n"
   ],
   "metadata": {
    "collapsed": false,
    "ExecuteTime": {
     "end_time": "2024-03-28T10:49:33.229325Z",
     "start_time": "2024-03-28T10:49:30.984186Z"
    }
   },
   "id": "9b4aecec84aaf8f9",
   "execution_count": 2
  },
  {
   "cell_type": "code",
   "outputs": [],
   "source": [
    "from sklearn.preprocessing import LabelBinarizer\n",
    "\n",
    "LB = LabelBinarizer()\n",
    "train_Y = LB.fit_transform(labels)\n",
    "val_Y = LB.fit_transform(val_labels)\n"
   ],
   "metadata": {
    "collapsed": false,
    "ExecuteTime": {
     "end_time": "2024-03-28T10:49:39.676876Z",
     "start_time": "2024-03-28T10:49:37.946808Z"
    }
   },
   "id": "aa8ac4913858f8f",
   "execution_count": 3
  },
  {
   "cell_type": "code",
   "outputs": [],
   "source": [
    "\n"
   ],
   "metadata": {
    "collapsed": false,
    "ExecuteTime": {
     "end_time": "2024-03-28T10:49:40.219952Z",
     "start_time": "2024-03-28T10:49:40.217221Z"
    }
   },
   "id": "2f349a004f938e7c",
   "execution_count": 3
  },
  {
   "cell_type": "code",
   "outputs": [],
   "source": [
    "from sklearn.preprocessing import LabelBinarizer\n",
    "\n",
    "LB = LabelBinarizer()\n",
    "train_Y = LB.fit_transform(train_Y)\n",
    "val_Y = LB.transform(val_Y)"
   ],
   "metadata": {
    "collapsed": false,
    "ExecuteTime": {
     "end_time": "2024-03-28T10:49:41.349604Z",
     "start_time": "2024-03-28T10:49:40.838735Z"
    }
   },
   "id": "8f573e2cee8520ed",
   "execution_count": 4
  },
  {
   "cell_type": "code",
   "outputs": [],
   "source": [
    "train_X = np.array(image_data)/255.0\n",
    "train_X = train_X.reshape(-1,32,32,1)\n",
    "train_Y = np.array(train_Y)"
   ],
   "metadata": {
    "collapsed": false,
    "ExecuteTime": {
     "end_time": "2024-03-28T10:49:43.536878Z",
     "start_time": "2024-03-28T10:49:41.898231Z"
    }
   },
   "id": "63212d4ea527c99a",
   "execution_count": 5
  },
  {
   "cell_type": "code",
   "outputs": [],
   "source": [
    "val_X = np.array(val_image_data)/255.0\n",
    "val_X = val_X.reshape(-1,32,32,1)\n",
    "val_Y = np.array(val_Y)"
   ],
   "metadata": {
    "collapsed": false,
    "ExecuteTime": {
     "end_time": "2024-03-28T10:49:44.168132Z",
     "start_time": "2024-03-28T10:49:44.094671Z"
    }
   },
   "id": "f9709114095573ba",
   "execution_count": 6
  },
  {
   "cell_type": "code",
   "outputs": [
    {
     "name": "stdout",
     "output_type": "stream",
     "text": [
      "(363322, 32, 32, 1) (16644, 32, 32, 1)\n"
     ]
    }
   ],
   "source": [
    "print(train_X.shape,val_X.shape)\n"
   ],
   "metadata": {
    "collapsed": false,
    "ExecuteTime": {
     "end_time": "2024-03-28T10:49:44.809960Z",
     "start_time": "2024-03-28T10:49:44.801126Z"
    }
   },
   "id": "e1c7035c7eeda25c",
   "execution_count": 7
  },
  {
   "cell_type": "code",
   "outputs": [
    {
     "name": "stdout",
     "output_type": "stream",
     "text": [
      "(363322, 29) (16644, 29)\n"
     ]
    }
   ],
   "source": [
    "print(train_Y.shape,val_Y.shape)\n"
   ],
   "metadata": {
    "collapsed": false,
    "ExecuteTime": {
     "end_time": "2024-03-28T10:49:45.569727Z",
     "start_time": "2024-03-28T10:49:45.565769Z"
    }
   },
   "id": "b9576613d620d85f",
   "execution_count": 8
  },
  {
   "cell_type": "code",
   "outputs": [
    {
     "name": "stdout",
     "output_type": "stream",
     "text": [
      "Eğitim veri seti boyutu: 363322\n",
      "Doğrulama veri seti boyutu: 16644\n"
     ]
    }
   ],
   "source": [
    "print(\"Eğitim veri seti boyutu:\", train_X.shape[0])\n",
    "print(\"Doğrulama veri seti boyutu:\", val_X.shape[0])"
   ],
   "metadata": {
    "collapsed": false,
    "ExecuteTime": {
     "end_time": "2024-03-28T10:49:46.251634Z",
     "start_time": "2024-03-28T10:49:46.246320Z"
    }
   },
   "id": "29586e2b92fce855",
   "execution_count": 9
  },
  {
   "cell_type": "code",
   "outputs": [],
   "source": [
    "from keras.models import Sequential\n",
    "from keras.layers import Conv2D, MaxPooling2D, Dropout, Flatten, Dense, Input\n",
    "\n",
    "model = Sequential()\n",
    "\n",
    "model.add(Input(shape=(32, 32, 1)))\n",
    "\n",
    "model.add(Conv2D(32, (3, 3), padding=\"same\", activation='relu'))\n",
    "model.add(MaxPooling2D(pool_size=(2, 2)))\n",
    "model.add(Conv2D(32, (3, 3), activation='relu'))\n",
    "model.add(MaxPooling2D(pool_size=(2, 2)))\n",
    "model.add(Conv2D(128, (3, 3), activation='relu'))\n",
    "model.add(MaxPooling2D(pool_size=(2, 2)))\n",
    "model.add(Dropout(0.2))\n",
    "model.add(Flatten())\n",
    "model.add(Dense(32, activation='relu'))\n",
    "model.add(Dense(29, activation='softmax'))\n"
   ],
   "metadata": {
    "collapsed": false,
    "ExecuteTime": {
     "end_time": "2024-03-28T10:49:51.123433Z",
     "start_time": "2024-03-28T10:49:47.027366Z"
    }
   },
   "id": "9b27b668f44769b4",
   "execution_count": 10
  },
  {
   "cell_type": "code",
   "outputs": [],
   "source": [],
   "metadata": {
    "collapsed": false,
    "ExecuteTime": {
     "end_time": "2024-03-28T11:14:01.065246Z",
     "start_time": "2024-03-28T11:14:01.063122Z"
    }
   },
   "id": "7b940fa8e84f3584",
   "execution_count": null
  },
  {
   "cell_type": "code",
   "outputs": [],
   "source": [
    "model.compile(loss='categorical_crossentropy', optimizer=\"adam\",metrics=['accuracy'])"
   ],
   "metadata": {
    "collapsed": false,
    "ExecuteTime": {
     "end_time": "2024-03-28T10:49:52.910189Z",
     "start_time": "2024-03-28T10:49:52.892527Z"
    }
   },
   "id": "4ba5174285d115f7",
   "execution_count": 12
  },
  {
   "cell_type": "code",
   "outputs": [
    {
     "name": "stdout",
     "output_type": "stream",
     "text": [
      "Epoch 1/10\n",
      "\u001B[1m11354/11354\u001B[0m \u001B[32m━━━━━━━━━━━━━━━━━━━━\u001B[0m\u001B[37m\u001B[0m \u001B[1m120s\u001B[0m 11ms/step - accuracy: 0.5461 - loss: 1.5214 - val_accuracy: 0.0277 - val_loss: 6.3300\n",
      "Epoch 2/10\n",
      "\u001B[1m11354/11354\u001B[0m \u001B[32m━━━━━━━━━━━━━━━━━━━━\u001B[0m\u001B[37m\u001B[0m \u001B[1m118s\u001B[0m 10ms/step - accuracy: 0.8444 - loss: 0.5026 - val_accuracy: 0.0359 - val_loss: 5.9461\n",
      "Epoch 3/10\n",
      "\u001B[1m11354/11354\u001B[0m \u001B[32m━━━━━━━━━━━━━━━━━━━━\u001B[0m\u001B[37m\u001B[0m \u001B[1m113s\u001B[0m 10ms/step - accuracy: 0.8750 - loss: 0.3995 - val_accuracy: 0.0566 - val_loss: 4.8992\n",
      "Epoch 4/10\n",
      "\u001B[1m11354/11354\u001B[0m \u001B[32m━━━━━━━━━━━━━━━━━━━━\u001B[0m\u001B[37m\u001B[0m \u001B[1m113s\u001B[0m 10ms/step - accuracy: 0.8893 - loss: 0.3542 - val_accuracy: 0.0517 - val_loss: 5.4620\n",
      "Epoch 5/10\n",
      "\u001B[1m11354/11354\u001B[0m \u001B[32m━━━━━━━━━━━━━━━━━━━━\u001B[0m\u001B[37m\u001B[0m \u001B[1m110s\u001B[0m 10ms/step - accuracy: 0.8978 - loss: 0.3264 - val_accuracy: 0.0591 - val_loss: 5.0251\n",
      "Epoch 6/10\n",
      "\u001B[1m11354/11354\u001B[0m \u001B[32m━━━━━━━━━━━━━━━━━━━━\u001B[0m\u001B[37m\u001B[0m \u001B[1m109s\u001B[0m 10ms/step - accuracy: 0.9030 - loss: 0.3076 - val_accuracy: 0.0546 - val_loss: 5.5085\n",
      "Epoch 7/10\n",
      "\u001B[1m11354/11354\u001B[0m \u001B[32m━━━━━━━━━━━━━━━━━━━━\u001B[0m\u001B[37m\u001B[0m \u001B[1m105s\u001B[0m 9ms/step - accuracy: 0.9056 - loss: 0.2976 - val_accuracy: 0.0621 - val_loss: 5.1224\n",
      "Epoch 8/10\n",
      "\u001B[1m11354/11354\u001B[0m \u001B[32m━━━━━━━━━━━━━━━━━━━━\u001B[0m\u001B[37m\u001B[0m \u001B[1m103s\u001B[0m 9ms/step - accuracy: 0.9083 - loss: 0.2883 - val_accuracy: 0.0554 - val_loss: 5.0101\n",
      "Epoch 9/10\n",
      "\u001B[1m11354/11354\u001B[0m \u001B[32m━━━━━━━━━━━━━━━━━━━━\u001B[0m\u001B[37m\u001B[0m \u001B[1m117s\u001B[0m 10ms/step - accuracy: 0.9103 - loss: 0.2802 - val_accuracy: 0.0556 - val_loss: 5.5464\n",
      "Epoch 10/10\n",
      "\u001B[1m11354/11354\u001B[0m \u001B[32m━━━━━━━━━━━━━━━━━━━━\u001B[0m\u001B[37m\u001B[0m \u001B[1m118s\u001B[0m 10ms/step - accuracy: 0.9123 - loss: 0.2760 - val_accuracy: 0.0511 - val_loss: 5.6700\n"
     ]
    }
   ],
   "source": [
    "history = model.fit(train_X,train_Y, epochs=10, batch_size=32, validation_data = (val_X, val_Y),  verbose=1)"
   ],
   "metadata": {
    "collapsed": false,
    "ExecuteTime": {
     "end_time": "2024-03-28T11:08:41.428349Z",
     "start_time": "2024-03-28T10:49:53.766629Z"
    }
   },
   "id": "35bb28446a3a7068",
   "execution_count": 13
  },
  {
   "cell_type": "code",
   "outputs": [
    {
     "name": "stderr",
     "output_type": "stream",
     "text": [
      "WARNING:absl:You are saving your model as an HDF5 file via `model.save()` or `keras.saving.save_model(model)`. This file format is considered legacy. We recommend using instead the native Keras format, e.g. `model.save('my_model.keras')` or `keras.saving.save_model(model, 'my_model.keras')`. \n"
     ]
    }
   ],
   "source": [
    "model.save('my_model.h5')"
   ],
   "metadata": {
    "collapsed": false,
    "ExecuteTime": {
     "end_time": "2024-03-28T11:09:20.977512Z",
     "start_time": "2024-03-28T11:09:20.852541Z"
    }
   },
   "id": "c2bfd867c0578650",
   "execution_count": 14
  },
  {
   "cell_type": "code",
   "outputs": [
    {
     "name": "stderr",
     "output_type": "stream",
     "text": [
      "WARNING:absl:Compiled the loaded model, but the compiled metrics have yet to be built. `model.compile_metrics` will be empty until you train or evaluate the model.\n"
     ]
    },
    {
     "name": "stdout",
     "output_type": "stream",
     "text": [
      "(32, 32, 3)\n"
     ]
    }
   ],
   "source": [
    "import cv2\n",
    "from keras.src.saving import load_model\n",
    "\n",
    "model = load_model('my_model.h5')\n",
    "\n",
    "x_data = 'snapshot.png'\n",
    "image = cv2.imread(x_data, cv2.IMREAD_GRAYSCALE)  # Load image in grayscale\n",
    "image = cv2.resize(image,(32,32)) # Resize imag\n",
    "image = cv2.cvtColor(image, cv2.COLOR_GRAY2BGR)  # Gri tonlamalı resmi siyah-beyaza dönüştür\n",
    "image.reshape(-1,32,32,1)\n",
    "\n",
    "print(image.shape)\n",
    "cv2.imshow('MacBook Kamera', image)\n"
   ],
   "metadata": {
    "collapsed": false,
    "ExecuteTime": {
     "end_time": "2024-03-27T19:12:15.834113Z",
     "start_time": "2024-03-27T19:12:15.748490Z"
    }
   },
   "id": "8658f4c37dee3feb",
   "execution_count": 26
  },
  {
   "cell_type": "code",
   "outputs": [],
   "source": [
    "import numpy as np\n",
    "\n",
    "input_data = np.random.randint(0, 256, size=(32, 32), dtype=np.uint8)\n",
    "input_data = input_data.reshape((1, 32, 32, 1)).astype('float32') / 255.0  # Normalize etme\n"
   ],
   "metadata": {
    "collapsed": false,
    "ExecuteTime": {
     "end_time": "2024-03-27T19:12:17.454275Z",
     "start_time": "2024-03-27T19:12:17.451851Z"
    }
   },
   "id": "273ddc5c8fb3fad7",
   "execution_count": 27
  },
  {
   "cell_type": "code",
   "outputs": [
    {
     "name": "stdout",
     "output_type": "stream",
     "text": [
      "\u001B[1m1/1\u001B[0m \u001B[32m━━━━━━━━━━━━━━━━━━━━\u001B[0m\u001B[37m\u001B[0m \u001B[1m0s\u001B[0m 38ms/step\n",
      "[[0. 1. 0. 0. 0. 0. 0. 0. 0. 0. 0. 0. 0. 0. 0. 0. 0. 0. 0. 0. 0. 0. 0. 0.\n",
      "  0. 0. 0. 0. 0.]]\n"
     ]
    }
   ],
   "source": [
    "predictions = model.predict(input_data)\n",
    "print(predictions)"
   ],
   "metadata": {
    "collapsed": false,
    "ExecuteTime": {
     "end_time": "2024-03-27T19:12:18.685340Z",
     "start_time": "2024-03-27T19:12:18.588997Z"
    }
   },
   "id": "dbe4760a218cd16f",
   "execution_count": 28
  },
  {
   "cell_type": "code",
   "outputs": [
    {
     "name": "stdout",
     "output_type": "stream",
     "text": [
      "1\n"
     ]
    }
   ],
   "source": [
    "predicted_class_index = np.argmax(predictions)\n",
    "print(predicted_class_index)"
   ],
   "metadata": {
    "collapsed": false,
    "ExecuteTime": {
     "end_time": "2024-03-27T19:12:19.470861Z",
     "start_time": "2024-03-27T19:12:19.467013Z"
    }
   },
   "id": "12b3e7e690e81e37",
   "execution_count": 29
  },
  {
   "cell_type": "code",
   "outputs": [],
   "source": [],
   "metadata": {
    "collapsed": false,
    "ExecuteTime": {
     "end_time": "2024-03-27T19:10:22.296983Z",
     "start_time": "2024-03-27T19:10:22.291101Z"
    }
   },
   "id": "17fbec11d8fd08be",
   "execution_count": 22
  },
  {
   "cell_type": "code",
   "outputs": [
    {
     "name": "stdout",
     "output_type": "stream",
     "text": [
      "Tahmin edilen sınıf: B\n"
     ]
    }
   ],
   "source": [
    "labels = ['A','B','C','CC','D','E','F','G','GG','H','I','II','J','K','L','M','N','O','O','P','R','S','SS','T','U','UU','V','Y','Z']  # Modelin öğrendiği sınıf etiketlerinizin listesi\n",
    "predicted_class = labels[predicted_class_index]\n",
    "print(\"Tahmin edilen sınıf:\", predicted_class)"
   ],
   "metadata": {
    "collapsed": false,
    "ExecuteTime": {
     "end_time": "2024-03-27T19:10:23.339342Z",
     "start_time": "2024-03-27T19:10:23.321381Z"
    }
   },
   "id": "9458f7b714c57287",
   "execution_count": 23
  },
  {
   "cell_type": "code",
   "outputs": [],
   "source": [],
   "metadata": {
    "collapsed": false,
    "ExecuteTime": {
     "end_time": "2024-03-27T17:26:07.099068Z",
     "start_time": "2024-03-27T17:26:07.096527Z"
    }
   },
   "id": "3404e49d516a11d6",
   "execution_count": 20
  },
  {
   "cell_type": "code",
   "outputs": [
    {
     "data": {
      "text/plain": "<matplotlib.image.AxesImage at 0x304f8a8a0>"
     },
     "execution_count": 33,
     "metadata": {},
     "output_type": "execute_result"
    },
    {
     "data": {
      "text/plain": "<Figure size 640x480 with 1 Axes>",
      "image/png": "[encoded data removed]"
     },
     "metadata": {},
     "output_type": "display_data"
    }
   ],
   "source": [],
   "metadata": {
    "collapsed": false,
    "ExecuteTime": {
     "end_time": "2024-03-27T19:25:38.367608Z",
     "start_time": "2024-03-27T19:25:38.279257Z"
    }
   },
   "id": "dbfaf63517c24dcc",
   "execution_count": 33
  },
  {
   "cell_type": "code",
   "outputs": [],
   "source": [],
   "metadata": {
    "collapsed": false
   },
   "id": "42f68c4e1c038769"
  }
 ],
 "metadata": {
  "kernelspec": {
   "display_name": "Python 3 (ipykernel)",
   "language": "python",
   "name": "python3"
  },
  "language_info": {
   "codemirror_mode": {
    "name": "ipython",
    "version": 3
   },
   "file_extension": ".py",
   "mimetype": "text/x-python",
   "name": "python",
   "nbconvert_exporter": "python",
   "pygments_lexer": "ipython3",
   "version": "3.10.8"
  }
 },
 "nbformat": 4,
 "nbformat_minor": 5
}
