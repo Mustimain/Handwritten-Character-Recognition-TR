{
 "cells": [
  {
   "cell_type": "raw",
   "source": [],
   "metadata": {
    "collapsed": false
   },
   "id": "302548b970a69004"
  }
 ],
 "metadata": {},
 "nbformat": 4,
 "nbformat_minor": 5
}
